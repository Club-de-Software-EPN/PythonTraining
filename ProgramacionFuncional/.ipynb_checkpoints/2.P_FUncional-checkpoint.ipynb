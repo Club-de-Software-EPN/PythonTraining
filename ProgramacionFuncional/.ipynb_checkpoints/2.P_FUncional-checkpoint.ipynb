{
 "cells": [
  {
   "cell_type": "markdown",
   "id": "physical-baking",
   "metadata": {},
   "source": [
    "# Programación Funcional"
   ]
  },
  {
   "cell_type": "markdown",
   "id": "consistent-accordance",
   "metadata": {},
   "source": [
    "Es un paradigma programación, es que está basado en funciones (rápidas, optimizadas y reutilizables).\n",
    "\n",
    "Basado en funciones, nuestro principal objetivo es tomar una entrada y entregar una salida"
   ]
  },
  {
   "cell_type": "markdown",
   "id": "returning-conclusion",
   "metadata": {},
   "source": [
    "## 1. Funciones básicas\n",
    "\n",
    "Son funciones que son explícitamente definidas (def)"
   ]
  },
  {
   "cell_type": "code",
   "execution_count": 1,
   "id": "gothic-luxury",
   "metadata": {},
   "outputs": [
    {
     "name": "stdout",
     "output_type": "stream",
     "text": [
      "[8, 16, 18, 20]\n"
     ]
    }
   ],
   "source": [
    "numeros = [4,8,9,10]\n",
    "def duplicarLista(listaNumeros: list):\n",
    "    listaDuplicada = []\n",
    "    for numero in numeros: \n",
    "        listaDuplicada.append(numero*2)\n",
    "    return listaDuplicada\n",
    "\n",
    "print(duplicarLista(numeros))\n",
    "    "
   ]
  },
  {
   "cell_type": "markdown",
   "id": "qualified-seating",
   "metadata": {},
   "source": [
    "## 2. Funciones basadas en expresiones (lamba)\n",
    "\n",
    "No definición explícita de la función (no utilizamos def), mantenemos las entradas y salidas pero los hacemos a través de una expresión simbólica que representa la función que deseamos.\n",
    "\n",
    "Estructura para las expresiones lambda\n",
    "**(expresión lambda, variables)** \n",
    "\n",
    "Ejemplo con python\n",
    "\n",
    "*(lambda: operación, datos)*"
   ]
  },
  {
   "cell_type": "code",
   "execution_count": 2,
   "id": "organizational-bahamas",
   "metadata": {},
   "outputs": [
    {
     "data": {
      "text/plain": [
       "[8, 16, 18, 20]"
      ]
     },
     "execution_count": 2,
     "metadata": {},
     "output_type": "execute_result"
    }
   ],
   "source": [
    "list(map(lambda n: n*2, numeros))"
   ]
  },
  {
   "cell_type": "markdown",
   "id": "legal-procedure",
   "metadata": {},
   "source": [
    "## 3. Funciones de python útiles\n",
    "\n",
    "Range y enumerate"
   ]
  },
  {
   "cell_type": "code",
   "execution_count": 9,
   "id": "greatest-permission",
   "metadata": {},
   "outputs": [
    {
     "name": "stdout",
     "output_type": "stream",
     "text": [
      "range(1, 5)\n",
      "[0, 1, 2, 3, 4]\n",
      "(0, 52.2)\n",
      "(1, 65.58)\n",
      "(2, -0.29)\n"
     ]
    }
   ],
   "source": [
    "# Range permite generar un rango de números, elúltimo es excluido\n",
    "rango = range(1,5)\n",
    "print(rango)\n",
    "rango2 = list(range(5))\n",
    "print(rango2)\n",
    "\n",
    "# Enumerate: enumerar los elementos\n",
    "numeros2 = [52.2 ,65.58, -0.29]\n",
    "enumerate(numeros2)\n",
    "for enumeracion in enumerate(numeros2):\n",
    "    print(enumeracion)"
   ]
  },
  {
   "cell_type": "markdown",
   "id": "tamil-fusion",
   "metadata": {},
   "source": [
    "## 4. Operaciones en la programación funcional (map, zip, filter y reduce)\n",
    "\n",
    "Son operaciones reservadasm y permiten aplicar nuestras expresiones de diferentes formas"
   ]
  },
  {
   "cell_type": "markdown",
   "id": "subtle-tuner",
   "metadata": {},
   "source": [
    "### Map:\n",
    "\n",
    "Aplicar la operación sobre todos los elementos"
   ]
  },
  {
   "cell_type": "code",
   "execution_count": 18,
   "id": "competent-mouth",
   "metadata": {},
   "outputs": [
    {
     "name": "stdout",
     "output_type": "stream",
     "text": [
      "[7225, 9025, 8836]\n",
      "[7225, 9025, 8836]\n",
      "[7225, 9025, 8836]\n"
     ]
    }
   ],
   "source": [
    "## Previamente\n",
    "\n",
    "def elevarCuadrado(item):\n",
    "    return item**2\n",
    "\n",
    "numeros3 = [85,95,94]\n",
    "elevados = []\n",
    "for i in numeros3:\n",
    "    elevados.append(elevarCuadrado(i))\n",
    "print(elevados)\n",
    "\n",
    "## Map\n",
    "print(list(map(elevarCuadrado,numeros3)))\n",
    "\n",
    "## Map bien hecho\n",
    "print(list(map(lambda x: x**2, numeros3)))"
   ]
  },
  {
   "cell_type": "markdown",
   "id": "british-bonus",
   "metadata": {},
   "source": [
    "### Zip:\n",
    "\n",
    "Operación que nos permite comprimir dos estrcuturas (unir), las estructuras que le paso deben ser iterables, realiza la compresión hasta donde es posible"
   ]
  },
  {
   "cell_type": "code",
   "execution_count": 21,
   "id": "suitable-briefing",
   "metadata": {},
   "outputs": [
    {
     "name": "stdout",
     "output_type": "stream",
     "text": [
      "[(50, 100), (60, 200), (80, 300)]\n",
      "[(99, 100), (100, 200), (101, 300)]\n"
     ]
    }
   ],
   "source": [
    "listaA = [50,60,80,89]\n",
    "listaB = [100,200,300]\n",
    "tuplaC = (99,100,101)\n",
    "\n",
    "print(list(zip(listaA, listaB)))\n",
    "print(list(zip(tuplaC, listaB)))"
   ]
  },
  {
   "cell_type": "markdown",
   "id": "activated-september",
   "metadata": {},
   "source": [
    "### Filter:\n",
    "\n",
    "Operación que me permite filtar datos basados en una condición"
   ]
  },
  {
   "cell_type": "code",
   "execution_count": 27,
   "id": "possible-permission",
   "metadata": {},
   "outputs": [
    {
     "name": "stdout",
     "output_type": "stream",
     "text": [
      "['Anderson', 'ANdrés', 'Andrés2']\n",
      "['Anderson', 'ANdrés', 'Andrés2']\n"
     ]
    }
   ],
   "source": [
    "expresionEmpiezaA = lambda x: True if x.startswith('A') else False\n",
    "nombres = ['Anderson','ANdrés','Andrés2','Bryan','Cristo','Freddy','Janeth']\n",
    "print(list(filter(lambda y: expresionEmpiezaA(y), nombres)))\n",
    "print(list(filter(lambda x: True if x.startswith('A') else False, nombres)))"
   ]
  },
  {
   "cell_type": "markdown",
   "id": "through-canal",
   "metadata": {},
   "source": [
    "### Reduce\n",
    "\n",
    "Acumular valores\n",
    "f(g(h(i)))"
   ]
  },
  {
   "cell_type": "code",
   "execution_count": 29,
   "id": "intellectual-rings",
   "metadata": {},
   "outputs": [
    {
     "name": "stdout",
     "output_type": "stream",
     "text": [
      "28\n"
     ]
    }
   ],
   "source": [
    "from functools import reduce\n",
    "def acumulador(n1,n2):\n",
    "    return n1+n2\n",
    "print(reduce(acumulador, [2,5,6,7,8]))\n",
    "\n",
    "#((((2+5)+6)+7)+8)"
   ]
  },
  {
   "cell_type": "code",
   "execution_count": null,
   "id": "compound-korea",
   "metadata": {},
   "outputs": [],
   "source": []
  }
 ],
 "metadata": {
  "kernelspec": {
   "display_name": "Python 3 (ipykernel)",
   "language": "python",
   "name": "python3"
  },
  "language_info": {
   "codemirror_mode": {
    "name": "ipython",
    "version": 3
   },
   "file_extension": ".py",
   "mimetype": "text/x-python",
   "name": "python",
   "nbconvert_exporter": "python",
   "pygments_lexer": "ipython3",
   "version": "3.8.0"
  }
 },
 "nbformat": 4,
 "nbformat_minor": 5
}
