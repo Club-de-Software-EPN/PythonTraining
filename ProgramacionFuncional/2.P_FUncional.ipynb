{
 "cells": [
  {
   "cell_type": "markdown",
   "id": "continent-history",
   "metadata": {},
   "source": [
    "# Programación Funcional"
   ]
  },
  {
   "cell_type": "markdown",
   "id": "leading-liberty",
   "metadata": {},
   "source": [
    "Es un paradigma programación, es que está basado en funciones (rápidas, optimizadas y reutilizables).\n",
    "\n",
    "Basado en funciones, nuestro principal objetivo es tomar una entrada y entregar una salida"
   ]
  },
  {
   "cell_type": "markdown",
   "id": "facial-garden",
   "metadata": {},
   "source": [
    "## 1. Funciones básicas\n",
    "\n",
    "Son funciones que son explícitamente definidas (def)"
   ]
  },
  {
   "cell_type": "code",
   "execution_count": 1,
   "id": "decimal-definition",
   "metadata": {},
   "outputs": [
    {
     "name": "stdout",
     "output_type": "stream",
     "text": [
      "[8, 16, 18, 20]\n"
     ]
    }
   ],
   "source": [
    "numeros = [4,8,9,10]\n",
    "def duplicarLista(listaNumeros: list):\n",
    "    listaDuplicada = []\n",
    "    for numero in numeros: \n",
    "        listaDuplicada.append(numero*2)\n",
    "    return listaDuplicada\n",
    "\n",
    "print(duplicarLista(numeros))\n",
    "    "
   ]
  },
  {
   "cell_type": "markdown",
   "id": "spiritual-asset",
   "metadata": {},
   "source": [
    "## 2. Funciones basadas en expresiones (lamba)\n",
    "\n",
    "No definición explícita de la función (no utilizamos def), mantenemos las entradas y salidas pero los hacemos a través de una expresión simbólica que representa la función que deseamos.\n",
    "\n",
    "Estructura para las expresiones lambda\n",
    "**(expresión lambda, variables)** \n",
    "\n",
    "Ejemplo con python\n",
    "\n",
    "*(lambda: operación, datos)*"
   ]
  },
  {
   "cell_type": "code",
   "execution_count": 2,
   "id": "certain-jonathan",
   "metadata": {},
   "outputs": [
    {
     "data": {
      "text/plain": [
       "[8, 16, 18, 20]"
      ]
     },
     "execution_count": 2,
     "metadata": {},
     "output_type": "execute_result"
    }
   ],
   "source": [
    "list(map(lambda n: n*2, numeros))"
   ]
  },
  {
   "cell_type": "markdown",
   "id": "occupied-caribbean",
   "metadata": {},
   "source": [
    "## 3. Funciones de python útiles\n",
    "\n",
    "Range y enumerate"
   ]
  },
  {
   "cell_type": "code",
   "execution_count": 9,
   "id": "given-italy",
   "metadata": {},
   "outputs": [
    {
     "name": "stdout",
     "output_type": "stream",
     "text": [
      "range(1, 5)\n",
      "[0, 1, 2, 3, 4]\n",
      "(0, 52.2)\n",
      "(1, 65.58)\n",
      "(2, -0.29)\n"
     ]
    }
   ],
   "source": [
    "# Range permite generar un rango de números, elúltimo es excluido\n",
    "rango = range(1,5)\n",
    "print(rango)\n",
    "rango2 = list(range(5))\n",
    "print(rango2)\n",
    "\n",
    "# Enumerate: enumerar los elementos\n",
    "numeros2 = [52.2 ,65.58, -0.29]\n",
    "enumerate(numeros2)\n",
    "for enumeracion in enumerate(numeros2):\n",
    "    print(enumeracion)"
   ]
  },
  {
   "cell_type": "markdown",
   "id": "ordered-hypothesis",
   "metadata": {},
   "source": [
    "## 4. Operaciones en la programación funcional (map, zip, filter y reduce)\n",
    "\n",
    "Son operaciones reservadasm y permiten aplicar nuestras expresiones de diferentes formas"
   ]
  },
  {
   "cell_type": "markdown",
   "id": "fifty-specific",
   "metadata": {},
   "source": [
    "### Map:\n",
    "\n",
    "Aplicar la operación sobre todos los elementos"
   ]
  },
  {
   "cell_type": "code",
   "execution_count": 18,
   "id": "inside-transition",
   "metadata": {},
   "outputs": [
    {
     "name": "stdout",
     "output_type": "stream",
     "text": [
      "[7225, 9025, 8836]\n",
      "[7225, 9025, 8836]\n",
      "[7225, 9025, 8836]\n"
     ]
    }
   ],
   "source": [
    "## Previamente\n",
    "\n",
    "def elevarCuadrado(item):\n",
    "    return item**2\n",
    "\n",
    "numeros3 = [85,95,94]\n",
    "elevados = []\n",
    "for i in numeros3:\n",
    "    elevados.append(elevarCuadrado(i))\n",
    "print(elevados)\n",
    "\n",
    "## Map\n",
    "print(list(map(elevarCuadrado,numeros3)))\n",
    "\n",
    "## Map bien hecho\n",
    "print(list(map(lambda x: x**2, numeros3)))"
   ]
  },
  {
   "cell_type": "markdown",
   "id": "corresponding-france",
   "metadata": {},
   "source": [
    "### Zip:\n",
    "\n",
    "Operación que nos permite comprimir dos estrcuturas (unir), las estructuras que le paso deben ser iterables, realiza la compresión hasta donde es posible"
   ]
  },
  {
   "cell_type": "code",
   "execution_count": 21,
   "id": "medium-cinema",
   "metadata": {},
   "outputs": [
    {
     "name": "stdout",
     "output_type": "stream",
     "text": [
      "[(50, 100), (60, 200), (80, 300)]\n",
      "[(99, 100), (100, 200), (101, 300)]\n"
     ]
    }
   ],
   "source": [
    "listaA = [50,60,80,89]\n",
    "listaB = [100,200,300]\n",
    "tuplaC = (99,100,101)\n",
    "\n",
    "print(list(zip(listaA, listaB)))\n",
    "print(list(zip(tuplaC, listaB)))"
   ]
  },
  {
   "cell_type": "markdown",
   "id": "outside-going",
   "metadata": {},
   "source": [
    "### Filter:\n",
    "\n",
    "Operación que me permite filtar datos basados en una condición"
   ]
  },
  {
   "cell_type": "code",
   "execution_count": 27,
   "id": "absolute-television",
   "metadata": {},
   "outputs": [
    {
     "name": "stdout",
     "output_type": "stream",
     "text": [
      "['Anderson', 'ANdrés', 'Andrés2']\n",
      "['Anderson', 'ANdrés', 'Andrés2']\n"
     ]
    }
   ],
   "source": [
    "expresionEmpiezaA = lambda x: True if x.startswith('A') else False\n",
    "nombres = ['Anderson','ANdrés','Andrés2','Bryan','Cristo','Freddy','Janeth']\n",
    "print(list(filter(lambda y: expresionEmpiezaA(y), nombres)))\n",
    "print(list(filter(lambda x: True if x.startswith('A') else False, nombres)))"
   ]
  },
  {
   "cell_type": "markdown",
   "id": "domestic-headquarters",
   "metadata": {},
   "source": [
    "### Reduce\n",
    "\n",
    "Acumular valores\n",
    "f(g(h(i)))"
   ]
  },
  {
   "cell_type": "code",
   "execution_count": 30,
   "id": "piano-discrimination",
   "metadata": {},
   "outputs": [
    {
     "name": "stdout",
     "output_type": "stream",
     "text": [
      "28\n"
     ]
    }
   ],
   "source": [
    "from functools import reduce\n",
    "def acumulador(n1,n2):\n",
    "    return n1+n2\n",
    "print(reduce(acumulador, [2,5,6,7,8]))\n",
    "\n",
    "#((((2+5)+6)+7)+8)"
   ]
  },
  {
   "cell_type": "markdown",
   "id": "lyric-student",
   "metadata": {},
   "source": [
    "### 5. List Comprehension\n",
    "\n",
    "[x 'expresión para crear lista']\n",
    "\n",
    "\n",
    "[x for x in iterable]\n",
    "\n",
    "[x**2 for x in iterable]"
   ]
  },
  {
   "cell_type": "markdown",
   "id": "2f6cc1ee",
   "metadata": {},
   "source": [
    "1. Creen una lista que tengo todos los numeros del 1 al 15 elevados al cuadrado"
   ]
  },
  {
   "cell_type": "code",
   "execution_count": 2,
   "id": "e4ad129c",
   "metadata": {},
   "outputs": [
    {
     "data": {
      "text/plain": [
       "[0, 1, 4, 9, 16, 25, 36, 49, 64, 81, 100, 121, 144, 169, 196, 225]"
      ]
     },
     "execution_count": 2,
     "metadata": {},
     "output_type": "execute_result"
    }
   ],
   "source": [
    "lista = [x**2 for x in range(16)]\n",
    "lista"
   ]
  },
  {
   "cell_type": "markdown",
   "id": "4430f460",
   "metadata": {},
   "source": [
    "2. Vamos a tener una lista de valores y quiero crear una nueva lista la cual contenga aquellos valores que sena múltiplos de 5"
   ]
  },
  {
   "cell_type": "code",
   "execution_count": 3,
   "id": "70aa99a1",
   "metadata": {},
   "outputs": [
    {
     "data": {
      "text/plain": [
       "[0, 5, 15, 35, 50]"
      ]
     },
     "execution_count": 3,
     "metadata": {},
     "output_type": "execute_result"
    }
   ],
   "source": [
    "listaA = [0, 3, 5, 15, 17, 23, 35, 68, 71, 50]\n",
    "listaB = [x for x in listaA if x%5 == 0]\n",
    "listaB"
   ]
  },
  {
   "cell_type": "markdown",
   "id": "df241cbc",
   "metadata": {},
   "source": [
    "3. Sumar dos elementos de la misma posición de dos listas diferentes"
   ]
  },
  {
   "cell_type": "code",
   "execution_count": 13,
   "id": "741ee688",
   "metadata": {},
   "outputs": [
    {
     "name": "stdout",
     "output_type": "stream",
     "text": [
      "[12, 12, 20, 42, 86]\n",
      "[12, 11, 20, 42, 86]\n"
     ]
    },
    {
     "data": {
      "text/plain": [
       "[12, 11, 20, 42, 86]"
      ]
     },
     "execution_count": 13,
     "metadata": {},
     "output_type": "execute_result"
    }
   ],
   "source": [
    "listaC = [8, 7, 12, 16, 85]\n",
    "listaD = [4, 4, 8, 26, 1]\n",
    "listaE = [x+y for x in listaC for y in listaD if listaC.index(x) == listaD.index(y)]\n",
    "print(listaE)\n",
    "listaF = [ listaC[i] + listaD[i] for i in range(len(listaC))]\n",
    "print(listaF)\n",
    "\n",
    "# Otra solución \n",
    "listaH = list(map(sum, zip(listaC, listaD)))\n",
    "listaH\n"
   ]
  },
  {
   "cell_type": "markdown",
   "id": "functional-insulation",
   "metadata": {},
   "source": [
    "### 6.Exec y eval"
   ]
  },
  {
   "cell_type": "code",
   "execution_count": 20,
   "id": "upper-apple",
   "metadata": {},
   "outputs": [
    {
     "data": {
      "text/plain": [
       "25.0"
      ]
     },
     "execution_count": 20,
     "metadata": {},
     "output_type": "execute_result"
    }
   ],
   "source": [
    "# Ejecutar un calculo a partir de una dependencia\n",
    "valores = {'y': 100, 'z':5}\n",
    "exec('x=(y+25)/z',valores)\n",
    "valores['x']"
   ]
  },
  {
   "cell_type": "code",
   "execution_count": 21,
   "id": "e26d89df",
   "metadata": {},
   "outputs": [
    {
     "data": {
      "text/plain": [
       "8"
      ]
     },
     "execution_count": 21,
     "metadata": {},
     "output_type": "execute_result"
    }
   ],
   "source": [
    "# únicamente evaluar en una expresión\n",
    "x, y = 2,3\n",
    "eval('2**x+y+1')"
   ]
  },
  {
   "cell_type": "markdown",
   "id": "20ca9dff",
   "metadata": {},
   "source": [
    "### 7.Decorators\n",
    "\n",
    "Una función que devuelve otra función"
   ]
  },
  {
   "cell_type": "code",
   "execution_count": 23,
   "id": "064269b6",
   "metadata": {},
   "outputs": [
    {
     "data": {
      "text/plain": [
       "'Hola'"
      ]
     },
     "execution_count": 23,
     "metadata": {},
     "output_type": "execute_result"
    }
   ],
   "source": [
    "def saludar():\n",
    "    def hablar():\n",
    "        return 'Hola'\n",
    "    return hablar\n",
    "saludo = saludar()\n",
    "saludo()"
   ]
  },
  {
   "cell_type": "markdown",
   "id": "e44cc6a8",
   "metadata": {},
   "source": [
    "Podemos crear decoradores"
   ]
  },
  {
   "cell_type": "code",
   "execution_count": 24,
   "id": "d07b75d7",
   "metadata": {},
   "outputs": [
    {
     "data": {
      "text/plain": [
       "'SALUDANDOA ANDO...'"
      ]
     },
     "execution_count": 24,
     "metadata": {},
     "output_type": "execute_result"
    }
   ],
   "source": [
    "def hacerMayuscula(funcion):\n",
    "    def funcionar():\n",
    "        f = funcion()\n",
    "        ejecutar = f.upper()\n",
    "        return ejecutar\n",
    "    return funcionar\n",
    "\n",
    "@hacerMayuscula\n",
    "def saludar2():\n",
    "    return 'Saludandoa ando...'\n",
    "\n",
    "saludar2()"
   ]
  },
  {
   "cell_type": "markdown",
   "id": "0448163c",
   "metadata": {},
   "source": [
    "# Ejercicios"
   ]
  },
  {
   "cell_type": "markdown",
   "id": "d2c5fdc6",
   "metadata": {},
   "source": [
    "1. Dadas las listas C y D, se pide crear una nueva lista en la que sus elemntos sean de la siguente forma:\n",
    "   \n",
    "   [(x**y+89.5)/(x-25)], \n",
    "\n",
    "   donde x es el elemnto de la lista C, y elemnto de la lista D"
   ]
  },
  {
   "cell_type": "code",
   "execution_count": 29,
   "id": "a4c8d81a",
   "metadata": {},
   "outputs": [
    {
     "data": {
      "text/plain": [
       "[-246.2058823529412,\n",
       " -246.2058823529412,\n",
       " -33075521.96153846,\n",
       " -2.2536010670724077e+30,\n",
       " 2.908333333333333]"
      ]
     },
     "execution_count": 29,
     "metadata": {},
     "output_type": "execute_result"
    }
   ],
   "source": [
    "C = [8, 7, 12, 16, 85]\n",
    "D = [4, 4, 8, 26, 1]\n",
    "\n",
    "resultado = [ eval('(x**y+89.5)/(x-25)') for x in listaC for y in listaD if listaC.index(x) == listaD.index(y)]\n",
    "resultado"
   ]
  },
  {
   "cell_type": "markdown",
   "id": "956f05d1",
   "metadata": {},
   "source": [
    "2. ¿Cómo ordenar una lista con elementos de diferente tipo?"
   ]
  },
  {
   "cell_type": "code",
   "execution_count": 61,
   "id": "23304062",
   "metadata": {},
   "outputs": [
    {
     "name": "stdout",
     "output_type": "stream",
     "text": [
      "[(3, 56), (2, 60), (6, 100), (5, 300)]\n",
      "[(0, True), (1, 'Zanahoria'), (4, 'Horario'), (3, 56), (2, 60), (6, 100), (5, 300)]\n"
     ]
    }
   ],
   "source": [
    "listaV = [True, 'Zanahoria',60,56, 'Horario',300,100]\n",
    "\n",
    "# Boolean, Strings, Number\n",
    "listaV = list(enumerate(listaV))\n",
    "#listaV.sort()\n",
    "listaV.sort(key= lambda x: x[0])\n",
    "\n",
    "listaAux = [x for x in listaV if type(x[1]) == int]\n",
    "listaAux.sort(key= lambda x: x[1])\n",
    "print(listaAux)\n",
    "\n",
    "listaResultado = [ e for e in listaV if e not in listaAux ]\n",
    "for o in listaAux: \n",
    "    listaResultado.append(o)\n",
    "print(listaResultado)    "
   ]
  },
  {
   "cell_type": "markdown",
   "id": "806972d8",
   "metadata": {},
   "source": [
    "3. Dada una lista M, retornar una nueva lista la cual tenga únicamente los números que sean múltiplos de 5 y tambipen sean multiplos de 2"
   ]
  },
  {
   "cell_type": "code",
   "execution_count": 68,
   "id": "eaa8911c",
   "metadata": {},
   "outputs": [
    {
     "name": "stdout",
     "output_type": "stream",
     "text": [
      "[30, 20, 40]\n"
     ]
    }
   ],
   "source": [
    "M = [30, 3, 15, 25, 20, 40, 7, 11, 13, 2]\n",
    "print(list(filter(lambda x: x%5==0 and x%2==0, M)))\n"
   ]
  },
  {
   "cell_type": "markdown",
   "id": "b62fd0f0",
   "metadata": {},
   "source": [
    "4. Me devuelvan la serie de fibonacci hasta un número"
   ]
  },
  {
   "cell_type": "code",
   "execution_count": 83,
   "id": "eeb7d12d",
   "metadata": {},
   "outputs": [
    {
     "name": "stdout",
     "output_type": "stream",
     "text": [
      "[0, 1, 1, 2, 3]\n"
     ]
    }
   ],
   "source": [
    "from functools import reduce\n",
    "\n",
    "fib = lambda n: reduce(lambda x, o: x+[x[-1]+x[-2]], range(n-2), [0, 1]) \n",
    "  \n",
    "print(fib(5)) "
   ]
  },
  {
   "cell_type": "code",
   "execution_count": 92,
   "id": "17da3517",
   "metadata": {},
   "outputs": [
    {
     "name": "stdout",
     "output_type": "stream",
     "text": [
      "[2, 3, 5, 7, 11, 13, 17, 19, 23, 29, 31, 37, 41, 43, 47, 53, 59, 61, 67, 71, 73, 79, 83, 89, 97]\n"
     ]
    }
   ],
   "source": [
    "\n",
    "nums = range(2, 100)\n",
    "for i in range(2, 10):\n",
    "    nums = list(filter(lambda x: x == i or x % i, nums))\n",
    "print(nums)"
   ]
  }
 ],
 "metadata": {
  "kernelspec": {
   "display_name": "Python 3 (ipykernel)",
   "language": "python",
   "name": "python3"
  },
  "language_info": {
   "codemirror_mode": {
    "name": "ipython",
    "version": 3
   },
   "file_extension": ".py",
   "mimetype": "text/x-python",
   "name": "python",
   "nbconvert_exporter": "python",
   "pygments_lexer": "ipython3",
   "version": "3.8.0"
  }
 },
 "nbformat": 4,
 "nbformat_minor": 5
}
