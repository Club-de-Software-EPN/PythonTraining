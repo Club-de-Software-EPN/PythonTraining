{
 "cells": [
  {
   "cell_type": "code",
   "execution_count": 6,
   "id": "frank-vacation",
   "metadata": {},
   "outputs": [],
   "source": [
    "c = 52"
   ]
  },
  {
   "cell_type": "code",
   "execution_count": 3,
   "id": "pressing-mobile",
   "metadata": {},
   "outputs": [
    {
     "name": "stdout",
     "output_type": "stream",
     "text": [
      "Hola\n"
     ]
    }
   ],
   "source": [
    "print('Hola')"
   ]
  },
  {
   "cell_type": "code",
   "execution_count": 4,
   "id": "broke-penny",
   "metadata": {},
   "outputs": [
    {
     "name": "stdout",
     "output_type": "stream",
     "text": [
      "Ingrsa tu nombreAnderson\n"
     ]
    }
   ],
   "source": [
    "a = input('Ingresa tu nombre')"
   ]
  },
  {
   "cell_type": "code",
   "execution_count": 7,
   "id": "flush-internship",
   "metadata": {},
   "outputs": [
    {
     "name": "stdout",
     "output_type": "stream",
     "text": [
      "52\n"
     ]
    }
   ],
   "source": [
    "print(c)"
   ]
  },
  {
   "cell_type": "code",
   "execution_count": null,
   "id": "respected-conservation",
   "metadata": {},
   "outputs": [],
   "source": []
  }
 ],
 "metadata": {
  "kernelspec": {
   "display_name": "Python 3 (ipykernel)",
   "language": "python",
   "name": "python3"
  },
  "language_info": {
   "codemirror_mode": {
    "name": "ipython",
    "version": 3
   },
   "file_extension": ".py",
   "mimetype": "text/x-python",
   "name": "python",
   "nbconvert_exporter": "python",
   "pygments_lexer": "ipython3",
   "version": "3.8.0"
  }
 },
 "nbformat": 4,
 "nbformat_minor": 5
}
